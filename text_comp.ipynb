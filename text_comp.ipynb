{
 "cells": [
  {
   "cell_type": "code",
   "execution_count": 6,
   "id": "8cc784ed",
   "metadata": {
    "scrolled": true
   },
   "outputs": [
    {
     "data": {
      "application/vnd.jupyter.widget-view+json": {
       "model_id": "8169cc53456146ceac80fbcaede1a6be",
       "version_major": 2,
       "version_minor": 0
      },
      "text/plain": [
       "VBox(children=(HTML(value='<center> <img\\nsrc=https://huggingface.co/front/assets/huggingface_logo-noborder.sv…"
      ]
     },
     "metadata": {},
     "output_type": "display_data"
    }
   ],
   "source": [
    "from huggingface_hub import notebook_login\n",
    "notebook_login()"
   ]
  },
  {
   "cell_type": "code",
   "execution_count": 7,
   "id": "8376045c",
   "metadata": {},
   "outputs": [
    {
     "data": {
      "text/plain": [
       "'cc.fr.300.bin'"
      ]
     },
     "execution_count": 7,
     "metadata": {},
     "output_type": "execute_result"
    }
   ],
   "source": [
    "# Importing libraries\n",
    "import os\n",
    "import pandas as pd\n",
    "import numpy as np\n",
    "import string\n",
    "import gradio as gr\n",
    "import matplotlib.pyplot as plt\n",
    "import seaborn as sns\n",
    "from unidecode import unidecode\n",
    "import unicodedata\n",
    "import re\n",
    "import torch\n",
    "from tqdm import tqdm\n",
    "\n",
    "\n",
    "import nltk\n",
    "from nltk.tokenize import sent_tokenize, word_tokenize\n",
    "from nltk.corpus import stopwords\n",
    "from nltk.corpus import wordnet as wn\n",
    "\n",
    "from sklearn.feature_extraction.text import CountVectorizer\n",
    "from sklearn.feature_extraction.text import TfidfVectorizer\n",
    "from sklearn.metrics.pairwise import pairwise_distances\n",
    "from sklearn.metrics.pairwise import cosine_similarity\n",
    "from sklearn.preprocessing import MinMaxScaler\n",
    "from sklearn.metrics import mean_squared_error, mean_absolute_error\n",
    "\n",
    "import tkinter as tk\n",
    "import networkx as nx\n",
    "import textdistance\n",
    "from sentence_transformers import SentenceTransformer, util\n",
    "from datasets import load_dataset\n",
    "from fuzzywuzzy import fuzz\n",
    "\n",
    "from IPython.display import display, Image\n",
    "\n",
    "\n",
    "from transformers import AutoTokenizer, AutoModel\n",
    "\n",
    "from difflib import SequenceMatcher\n",
    "import difflib\n",
    "\n",
    "import warnings\n",
    "# Filter out specific warning type\n",
    "warnings.filterwarnings(\"ignore\", category=DeprecationWarning)\n",
    "warnings.simplefilter(action='ignore', category=FutureWarning)\n",
    "\n",
    "import fasttext.util\n",
    "fasttext.util.download_model('fr', if_exists='ignore')"
   ]
  },
  {
   "cell_type": "markdown",
   "id": "ebc2e2e9",
   "metadata": {},
   "source": [
    "## dummy text examples for experimentation"
   ]
  },
  {
   "cell_type": "code",
   "execution_count": 8,
   "id": "ff973119",
   "metadata": {},
   "outputs": [],
   "source": [
    "text_1 = \"\"\"\n",
    "L'albatros majestueux planait au-dessus des vagues écumeuses, ses ailes étendues captant les courants d'air.\n",
    "Il parcourait des kilomètres sans effort, observant les poissons argentés scintiller sous la surface de l'océan.\n",
    "Le soleil couchant teintait le ciel de nuances d'orange et de rose, créant un tableau époustouflant.\n",
    "\n",
    "Le chat noir saute rapidement sur le toit.\n",
    "Il regarde autour de lui et aperçoit une souris grise qui court sur le sol.\n",
    "Le chat descend du toit avec agilité et commence à poursuivre la souris.\n",
    "La souris tente de s'échapper en se faufilant dans un trou, mais le chat est trop rapide pour elle.\n",
    "Finalement, le chat attrape la souris et retourne sur le toit pour savourer sa prise.\n",
    "\"\"\"\n",
    "text_2 = \"\"\"\n",
    "Le chat noir saute rapidement sur le toit.\n",
    "Il regarde autour de lui et voit une souris grise qui court sur le sol.\n",
    "Le chat descend du toit avec agilité et commence à poursuivre la souris.\n",
    "La souris tente de s'échapper en se faufilant dans un trou, mais le chat est trop rapide pour elle.\n",
    "Finalement, le chat attrape la souris et retourne sur le toit pour savourer sa proie.\n",
    "\n",
    "\n",
    "Le chercheur entra dans le laboratoire, ses mains protégées par des gants de latex.\n",
    "Devant lui, des tubes à essai alignés contenaient diverses solutions chimiques.\n",
    "Concentré, il ajusta le microscope pour observer les réactions au niveau cellulaire,\n",
    "cherchant des indices sur le développement des nouvelles molécules.\n",
    "\"\"\""
   ]
  },
  {
   "cell_type": "code",
   "execution_count": 9,
   "id": "5249e52e",
   "metadata": {},
   "outputs": [],
   "source": [
    "\n",
    "text_3 = \"\"\"\n",
    "L'albatros majestueux planait au-dessus des vagues écumeuses, ses ailes étendues captant les courants d'air.\n",
    "Il parcourait des kilomètres sans effort, observant les poissons argentés scintiller sous la surface de l'océan.\n",
    "Le soleil couchant teintait le ciel de nuances d'orange et de rose, créant un tableau époustouflant.\n",
    "\n",
    "Le médecin entra dans la salle d'examen, portant une blouse blanche immaculée.\n",
    "Il salua le patient avec un sourire rassurant, puis prit son stéthoscope pour écouter les battements de son cœur.\n",
    "Après un examen minutieux, il nota ses observations dans le dossier médical et prescrivit un traitement approprié, \n",
    "tout en expliquant clairement les prochaines étapes du soin.\n",
    "\"\"\"\n",
    "text_4 = \"\"\"\n",
    "La doctoresse pénétra dans le cabinet, habillée d'une tunique clinique impeccable.\n",
    "Elle accueillit le malade avec une expression bienveillante, puis utilisa son instrument pour vérifier le rythme cardiaque.\n",
    "Après une inspection détaillée, elle consigna ses notes dans le fichier du patient et recommanda une thérapie adaptée,\n",
    "en détaillant soigneusement les procédures à suivre.\n",
    "\n",
    "Le chat noir saute rapidement sur le toit.\n",
    "Il regarde autour de lui et voit une souris grise qui court sur le sol.\n",
    "Le chat descend du toit avec agilité et commence à poursuivre la souris.\n",
    "La souris tente de s'échapper en se faufilant dans un trou, mais le chat est trop rapide pour elle.\n",
    "Finalement, le chat attrape la souris et retourne sur le toit pour savourer sa proie.\n",
    "\"\"\"\n",
    "text_5 = \"\"\"sovent que denier a Change, Rimer vueil du monde divers. Toz fu estez, or\n",
    "est yvers; Bon fu, or est d'autre maniere, Quar nule gent n'est més maniere\n",
    "De l'autrui porfit porchacier, Se son preu n'i cuide chacier. Chascuns\n",
    "devient oisel de proie: Nul ne vit més se il ne proie. Por ce dirai l'estat du\n",
    "monde, Qui de toz biens se vuide et monde. Relegieus premierement\n",
    "Deussent vivre saintement, Ce croi, selonc m'entencion. Si a double\n",
    "religion: Li un sont moine blanc et noir Qui maint biau lieu et maint manoir\n",
    "Ont et mainte richece assise, Qui toz sont sers a Covoitise. Toz jors vuelent\n",
    "sanz doner prendre, Toz jors achatent sanz riens vendre. Il tolent, l'en ne\n",
    "lot tolt rien. Il sont fondé sus fort mesrien:\n",
    "\"\"\"\n",
    "text_6 = \"\"\"veux rimer sur ce monde changeant. L'été est passé, maintenant c'est\n",
    "l'hiver; le monde était bon, maintenant c'est différent, car personne ne sait\n",
    "plus travailler au bien d'autrui, s'il ne pense pas y trouver son profit.\n",
    "Chacun se fait oiseau de proie: nul ne vit plus que de proies. C'est pourquoi\n",
    "je vais dire l'état où est ce monde, qui de tout bien se vide et s'émonde.\n",
    "Tout d'abord, les religieux devraient vivre saintement: c'est mon avis. Or, ils\n",
    "sont de deux sortes: les uns sont des moines blancs ou noirs , qui\n",
    "possèdent maintes belles résidences et maintes richesses solides. Ils sont\n",
    "tous esclaves de Cupidité. Sans cesse ils veulent prendre sans jamais\n",
    "donner, sans cesse ils achètent sans jamais rien vendre. Ils prennent, et on ne leur prend\n",
    "\"\"\"\n",
    "text_7 = \"sovent que denier a Change, Rimer vueil du monde divers. Toz fu estez, or est yvers; Bon fu, or est d'autre maniere, Quar nule gent n'est més maniere De l'autrui porfit porchacier, Se son preu n'i cuide chacier. Chascuns devient oisel de proie: Nul ne vit més se il ne proie. Por ce dirai l'estat du monde, Qui de toz biens se vuide et monde. Relegieus premierement Deussent vivre saintement, Ce croi, selonc m'entencion. Si a double religion: Li un sont moine blanc et noir Qui maint biau lieu et maint manoir Ont et mainte richece assise, Qui toz sont sers a Covoitise. Toz jors vuelent sanz doner prendre, Toz jors achatent sanz riens vendre. Il tolent, l'en ne lot tolt rien. Il sont fondé sus fort mesrien:\"\n",
    "text_8 = \"veux rimer sur ce monde changeant. L'été est passé, maintenant c'est l'hiver; le monde était bon, maintenant c'est différent, car personne ne sait plus travailler au bien d'autrui, s'il ne pense pas y trouver son profit. Chacun se fait oiseau de proie: nul ne vit plus que de proies. C'est pourquoi je vais dire l'état où est ce monde, qui de tout bien se vide et s'émonde. Tout d'abord, les religieux devraient vivre saintement: c'est mon avis. Or, ils sont de deux sortes: les uns sont des moines blancs ou noirs , qui possèdent maintes belles résidences et maintes richesses solides. Ils sont tous esclaves de Cupidité. Sans cesse ils veulent prendre sans jamais donner, sans cesse ils achètent sans jamais rien vendre. Ils prennent, et on ne leur prend\"\n",
    "\n",
    "text_9 = \"de voir: Bien le poiez aparsouvoir Par cestui qui en fu baniz. Et si ne fu mie feniz Li plaiz, ainz dura puis grant piece. Car la cours, qui fait et depiece, Nuit Guillaume de Saint Amour [Et] par priere et par cremour. Cil de court font bien ce qu'il font, Car il font ce qu'autre defont, Et si defont ce qu'autre fait: Ainsi n'auront il jamais fait. Explicit. Ci encoumence li dis des Jacobins I Signour, moult me merveil que ciz siecles devient Et de ceste merveille trop souvent me souvient, Si que en mervillant a force me\"\n",
    "text_10 = \"lui qui fut pour cela banni. Et cela ne mit pas fin à la dispute : elle dura longtemps encore. Car la cour de Rome, qui construit et démolit, a fait du tort à Guillaume de Saint-Amour en cédant aux pressions et à la peur. Les gens de cette cour font bien ce qu'ils font, car ils font ce que les autres défont et ils défont ce qu'un autre a fait. Ainsi ils n'auront jamais fini. Le dit des Jacobins I Seigneurs, le monde va d'un train qui m'étonne beaucoup: cet étonnement me vient si souvent à l'esprit qu'à force d'être étonné, je ne puis\"\n"
   ]
  },
  {
   "cell_type": "code",
   "execution_count": 10,
   "id": "97c657ce",
   "metadata": {},
   "outputs": [],
   "source": [
    "# IGNORE - (Some parameters)\n",
    "THRESHOLD = 0.8\n",
    "MODULARITY = \"greedy\"\n",
    "QUANTILE_THRESHOLD = 0.8"
   ]
  },
  {
   "cell_type": "markdown",
   "id": "346d86a8",
   "metadata": {},
   "source": [
    "### from text to chunks"
   ]
  },
  {
   "cell_type": "code",
   "execution_count": 11,
   "id": "6045c040",
   "metadata": {},
   "outputs": [],
   "source": [
    "# using tokenizer to convert chunks to embeddings using transformers\n",
    "def embed_chunks_transformers(sentences, tokenizer, model):\n",
    "    inputs = tokenizer(sentences, return_tensors='pt', padding=True, truncation=True)\n",
    "    with torch.no_grad():\n",
    "        outputs = model(**inputs)\n",
    "    embeddings = outputs.last_hidden_state.mean(dim=1)\n",
    "    return embeddings\n",
    "\n",
    "# using tokenizer to convert chunks to embeddings using fasttext\n",
    "def embed_chunks_fasttext(chunks):\n",
    "    \n",
    "    ft = fasttext.load_model('cc.fr.300.bin')\n",
    "    chunks_ft = [ft.get_sentence_vector(chunk) for chunk in chunks]\n",
    "    \n",
    "    return np.vstack(chunks_ft)\n",
    "\n",
    "# normalizing text (basic)\n",
    "def normalize_text(text):\n",
    "\n",
    "    text = text.replace('\\n', ' ')\n",
    "    \n",
    "    #text = unicodedata.normalize('NFKD', text).encode('ascii', 'ignore').decode('utf-8')\n",
    "    text = text.lower()\n",
    "\n",
    "    return text\n",
    "\n",
    "# convert text into list of sentences (chunks)\n",
    "def break_into_chunks(text, split = 'sentences'):\n",
    "\n",
    "    if split == 'sentences':\n",
    "        sentences = [sentence.strip() for sentence in text.split('.')]\n",
    "        sentences = [sentence for sentence in sentences if sentence]\n",
    "        return sentences\n",
    "    elif split == 'ngrams':\n",
    "        n = 3\n",
    "        words = text.split()\n",
    "        chunks = [' '.join(words[i:i+n]) for i in range(0, len(words), n)]\n",
    "        return chunks\n",
    "\n",
    "input_1 = text_9\n",
    "input_2 = text_10\n",
    "\n",
    "#input_1 = normalize_text(input_1)\n",
    "#input_2 = normalize_text(input_2)\n",
    "    \n",
    "SPLIT_CHUNKS = 'sentences'\n",
    "chunks_1 = break_into_chunks(input_1, split = SPLIT_CHUNKS)\n",
    "chunks_2 = break_into_chunks(input_2, split = SPLIT_CHUNKS)"
   ]
  },
  {
   "cell_type": "markdown",
   "id": "8695658c",
   "metadata": {},
   "source": [
    "### from chunks to embeddings"
   ]
  },
  {
   "cell_type": "code",
   "execution_count": 12,
   "id": "f21791d5",
   "metadata": {},
   "outputs": [],
   "source": [
    "model_mini_lm = 'sentence-transformers/paraphrase-multilingual-MiniLM-L12-v2'\n",
    "model_bert_base = \"bert-base-multilingual-cased\"\n",
    "model_fasttext = \"fasttext\"\n",
    "model_distiluse_base = \"sentence-transformers/distiluse-base-multilingual-cased-v2\"\n",
    "MODEL_NAME = model_mini_lm\n",
    "\n",
    "if MODEL_NAME == \"fasttext\":\n",
    "    embeddings1 = embed_chunks_fasttext(chunks_1)\n",
    "    embeddings2 = embed_chunks_fasttext(chunks_2)\n",
    "elif MODEL_NAME == model_mini_lm:\n",
    "    tokenizer = AutoTokenizer.from_pretrained(MODEL_NAME)\n",
    "    model = AutoModel.from_pretrained(MODEL_NAME)\n",
    "\n",
    "    embeddings1 = embed_chunks_transformers(chunks_1, tokenizer, model)\n",
    "    embeddings2 = embed_chunks_transformers(chunks_2, tokenizer, model)\n",
    "    \n",
    "elif MODEL_NAME == model_bert_base:\n",
    "    tokenizer = AutoTokenizer.from_pretrained(MODEL_NAME)\n",
    "    model = AutoModel.from_pretrained(MODEL_NAME)\n",
    "    \n",
    "    embeddings1 = embed_chunks_transformers(chunks_1, tokenizer, model).numpy()\n",
    "    embeddings2 = embed_chunks_transformers(chunks_2, tokenizer, model).numpy()\n",
    "    \n",
    "else:\n",
    "    tokenizer = AutoTokenizer.from_pretrained(MODEL_NAME)\n",
    "    model = AutoModel.from_pretrained(MODEL_NAME)\n",
    "    \n",
    "    embeddings1 = embed_chunks_transformers(chunks_1, tokenizer, model).numpy()\n",
    "    embeddings2 = embed_chunks_transformers(chunks_2, tokenizer, model).numpy()"
   ]
  },
  {
   "cell_type": "markdown",
   "id": "6f660705",
   "metadata": {},
   "source": [
    "### calculating similarity + graph-based clustering"
   ]
  },
  {
   "cell_type": "code",
   "execution_count": 43,
   "id": "7b4dd2d9",
   "metadata": {},
   "outputs": [],
   "source": [
    "# makes a dataframe with sentences and their similarity score\n",
    "def get_comp_sentences(sim_df, sentences1, sentences2, threshold = 0):\n",
    "    result  =sim_df.stack()[sim_df.stack() > threshold]\n",
    "    indices = [(idx[0], idx[1]) for idx in result.index]\n",
    "\n",
    "    df_comp = pd.DataFrame(columns=['sent1', 'sent2', 'sim_score'])\n",
    "    for row, col in indices:\n",
    "        df_comp = df_comp.append([\n",
    "            {'sent1': sentences1[row],\n",
    "            'sent2': sentences2[col],\n",
    "            'sim_score': sim_df.iloc[row][col]}\n",
    "        ])\n",
    "    df_comp = df_comp.sort_values(by='sim_score', ascending = False)\n",
    "    return df_comp\n",
    "\n",
    "# outputs graph for clustering of sentences\n",
    "def return_graph(chunks_1, chunks_2, sim_matrix):\n",
    "    \n",
    "    G = nx.DiGraph()\n",
    "\n",
    "    for i, chunk in enumerate(chunks_1):\n",
    "        G.add_node(f'T1_{i}', text=chunk)\n",
    "    for i, chunk in enumerate(chunks_2):\n",
    "        G.add_node(f'T2_{i}', text=chunk)\n",
    "\n",
    "    for i, chunk1 in enumerate(chunks_1):\n",
    "        for j, chunk2 in enumerate(chunks_2):\n",
    "            similarity_score = sim_matrix[i, j]\n",
    "            if similarity_score > THRESHOLD:\n",
    "                G.add_edge(f'T1_{i}', f'T2_{j}', weight=similarity_score)\n",
    "                \n",
    "    return G\n",
    "\n",
    "# graph-based clustering algorithm (forming communities) depending on algorithm \n",
    "def make_communities_show_graph(chunks_1, chunks_2, sim_matrix, modularity = MODULARITY):\n",
    "    G = return_graph(chunks_1, chunks_2, sim_matrix)\n",
    "    communities = None\n",
    "    try:\n",
    "        if modularity == 'greedy':\n",
    "            communities = nx.community.greedy_modularity_communities(G)\n",
    "        elif modularity == 'newman':\n",
    "            communities = nx.community.girvan_newman(G)\n",
    "        elif modularity == 'best_partition':\n",
    "            communities = nx.community.louvain_partitions(G)\n",
    "        elif modularity == \"lpa\":\n",
    "            communities = nx.community.asyn_lpa_communities(G)\n",
    "        else:\n",
    "            print(\"error communities\")\n",
    "\n",
    "        communities = list(communities)\n",
    "        show_graph(G, communities)\n",
    "        print_sentences_clusters(chunks_1, chunks_2, communities)\n",
    "        measure_clustering_quality(G, communities)\n",
    "        return communities\n",
    "\n",
    "    except Exception as e:\n",
    "        print(\"Pas de cluster\")\n",
    "        print(e)\n",
    "        \n",
    "# just showing the graph\n",
    "def show_graph(G, communities):\n",
    "\n",
    "    node_community_map = {}\n",
    "    for idx, community_nodes in enumerate(communities):\n",
    "        for node in community_nodes:\n",
    "            node_community_map[node] = idx\n",
    "\n",
    "    node_colors = [node_community_map[node] for node in G.nodes()]\n",
    "\n",
    "    pos = nx.spring_layout(G)\n",
    "    nx.draw(G, pos, with_labels=True, node_color=node_colors, cmap=plt.cm.tab10, node_size=500)\n",
    "    plt.title('Community Detection')\n",
    "    plt.show()\n",
    "    \n",
    "    \n",
    "# printing sentences associated for each communities \n",
    "def print_sentences_clusters(chunks_1, chunks_2, communities):\n",
    "\n",
    "    node_to_sentence_idx = {}\n",
    "    for i, chunk in enumerate(chunks_1):\n",
    "        node_to_sentence_idx[f'T1_{i}'] = i\n",
    "    for i, chunk in enumerate(chunks_2):\n",
    "        node_to_sentence_idx[f'T2_{i}'] = len(chunks_1) + i  # Offset for sentences2\n",
    "\n",
    "    dict_communities = {}\n",
    "        \n",
    "    for community_id, community_nodes in enumerate(communities):\n",
    "        if len(community_nodes) > 1:\n",
    "            print(f\"\\nCommunity {community_id+1}:\")\n",
    "            for node in community_nodes:\n",
    "                sentence_idx = node_to_sentence_idx[node]\n",
    "                if sentence_idx < len(chunks_1):\n",
    "                    sentence = chunks_1[sentence_idx]\n",
    "                    print(f\"\\t- T1_{sentence_idx}: {sentence}\")\n",
    "                else:\n",
    "                    sentence_idx -= len(chunks_1)  # Adjust for offset\n",
    "                    sentence = chunks_2[sentence_idx]\n",
    "                    print(f\"\\t- T2_{sentence_idx}: {sentence}\")\n",
    "                    \n",
    "# returning sentences associated for each communities \n",
    "def return_communities_sentences(chunks_1, chunks_2, communities):\n",
    "\n",
    "    node_to_sentence_idx = {}\n",
    "    for i, chunk in enumerate(chunks_1):\n",
    "        node_to_sentence_idx[f'T1_{i}'] = i\n",
    "    for i, chunk in enumerate(chunks_2):\n",
    "        node_to_sentence_idx[f'T2_{i}'] = len(chunks_1) + i  # Offset for sentences2\n",
    "\n",
    "    for community_id, community_nodes in enumerate(communities):\n",
    "        if len(community_nodes) > 1:\n",
    "            print(f\"\\nCommunity {community_id+1}:\")\n",
    "            for node in community_nodes:\n",
    "                sentence_idx = node_to_sentence_idx[node]\n",
    "                if sentence_idx < len(chunks_1):\n",
    "                    sentence = chunks_1[sentence_idx]\n",
    "                    print(f\"\\t- T1_{sentence_idx}: {sentence}\")\n",
    "                else:\n",
    "                    sentence_idx -= len(chunks_1)  # Adjust for offset\n",
    "                    sentence = chunks_2[sentence_idx]\n",
    "                    print(f\"\\t- T2_{sentence_idx}: {sentence}\")\n",
    "           \n",
    "        \n",
    "# keeping only pairs of sentences with similarity > threshold\n",
    "def get_comp_sentences(sim_df, sentences1, sentences2, threshold = THRESHOLD):\n",
    "    result  =sim_df.stack()[sim_df.stack() > threshold]\n",
    "    indices = [(idx[0], idx[1]) for idx in result.index]\n",
    "\n",
    "    df_comp = pd.DataFrame(columns=['sent1', 'sent2', 'sim_score'])\n",
    "    for row, col in indices:\n",
    "        df_comp = df_comp.append([\n",
    "            {'sent1': sentences1[row],\n",
    "            'sent2': sentences2[col],\n",
    "            'sim_score': sim_df.iloc[row][col]}\n",
    "        ])\n",
    "    df_comp = df_comp.sort_values(by='sim_score', ascending = False)\n",
    "    return df_comp\n",
    "\n",
    "# converting distance to similarity score\n",
    "def dist_to_sim(matrix):\n",
    "    return 1/(1+matrix)\n",
    "    \n",
    "\n",
    "# normalizing matrix\n",
    "def normalize_matrix(matrix):\n",
    "    scaler = MinMaxScaler()\n",
    "    scaled_matrix = scaler.fit_transform(matrix)\n",
    "    return scaled_matrix\n",
    "\n",
    "\n",
    "def get_fuzzy_df_comp(threshold = 0.8):\n",
    "    \n",
    "    # Function to find similar sentences using FuzzyWuzzy\n",
    "    def find_similar_sentences(query, sentences, threshold = threshold):\n",
    "        results = []\n",
    "        for sentence in sentences:\n",
    "            similarity = fuzz.token_sort_ratio(query, sentence)\n",
    "            if similarity >= threshold:\n",
    "                results.append((sentence, similarity))\n",
    "        results.sort(key=lambda x: x[1], reverse=True)\n",
    "        return results\n",
    "\n",
    "    # Finding similar sentences\n",
    "    similar_sentences = find_similar_sentences(query, sentences, threshold = THRESHOLD)\n",
    "\n",
    "\n",
    "    matrix = np.zeros((len(chunks_1), len(chunks_2)))\n",
    "    for i,sent_1 in enumerate(chunks_1):\n",
    "        for j, sent_2 in enumerate(chunks_2):\n",
    "            sim = fuzz.ratio(sent_1, sent_2)\n",
    "            matrix[i,j] = sim\n",
    "            \n",
    "    sim_df = pd.DataFrame(matrix/100)\n",
    "    df_comp = get_comp_sentences(sim_df, chunks_1, chunks_2, threshold = threshold)\n",
    "    \n",
    "    return df_comp\n",
    "\n",
    "\n",
    "# keeping sentences with sim score above certain quantile\n",
    "def get_top_comp(df_comp, quantile = QUANTILE_THRESHOLD):\n",
    "    val_quantile = df_comp['sim_score'].quantile(quantile)\n",
    "    df_comp_top = df_comp[df_comp['sim_score'] >= val_quantile]\n",
    "    return df_comp_top\n",
    "\n",
    "\n",
    "# removing duplicates in comparison dataframe\n",
    "def filter_df_comp_top(df):\n",
    "    result = df.sort_values(by = ['sent1', 'sim_score'], ascending=[True, False])\n",
    "    result = result.drop_duplicates(subset='sent1', keep='first')\n",
    "    \n",
    "    result = result.sort_values(by = ['sent2', 'sim_score'], ascending=[True, False])\n",
    "    result = result.drop_duplicates(subset='sent2', keep='first')\n",
    "    \n",
    "    \n",
    "    result = result.sort_values(by = ['sim_score'], ascending = False)\n",
    "    return result\n",
    "\n",
    "# find indices of a substring in main string\n",
    "def find_substring_indices(main_string, substring):\n",
    "    start_index = main_string.find(substring)\n",
    "    end_index = start_index + len(substring)\n",
    "    return start_index, end_index\n",
    "\n",
    "# get indices for highlighting purposes in interface\n",
    "def get_indices(df_comp, input_1, input_2):\n",
    "    \n",
    "    def find_substring_indices(main_string, substring):\n",
    "        start_index = main_string.find(substring)\n",
    "        end_index = start_index + len(substring)\n",
    "        return start_index, end_index\n",
    "    \n",
    "    nb_lines = df_comp.shape[0]\n",
    "    \n",
    "    highlight_ranges_text1 = []\n",
    "    highlight_ranges_text2 = []\n",
    "    sent_list_1 = []\n",
    "    sent_list_2 = []\n",
    "    \n",
    "    for i in range(nb_lines):\n",
    "        sent1 = df_comp['sent1'].values[i]\n",
    "        sent2 = df_comp['sent2'].values[i]\n",
    "        \n",
    "        tuple1 = find_substring_indices(input_1, sent1)\n",
    "        tuple2 = find_substring_indices(input_2, sent2)\n",
    "        \n",
    "        highlight_ranges_text1.append(tuple1)\n",
    "        highlight_ranges_text2.append(tuple2)\n",
    "        \n",
    "        sent_list_1.append(sent1)\n",
    "        sent_list_2.append(sent2)\n",
    "        \n",
    "    return nb_lines, highlight_ranges_text1, highlight_ranges_text2, sent_list_1, sent_list_2"
   ]
  },
  {
   "cell_type": "markdown",
   "id": "82861416",
   "metadata": {},
   "source": [
    "## \"method\"\n",
    "- calculate similarity metric\n",
    "- keep top sentences in similarity \n",
    "- showing graph-based clustering"
   ]
  },
  {
   "cell_type": "markdown",
   "id": "099b8c2a",
   "metadata": {},
   "source": [
    "## Semantically"
   ]
  },
  {
   "cell_type": "markdown",
   "id": "96f15c5e",
   "metadata": {},
   "source": [
    "### cosine sim"
   ]
  },
  {
   "cell_type": "code",
   "execution_count": 14,
   "id": "cfaeee77",
   "metadata": {},
   "outputs": [],
   "source": [
    "sim_matrix_cos = np.array(util.pytorch_cos_sim(embeddings1, embeddings2))\n",
    "sim_df_cos = pd.DataFrame(sim_matrix_cos)\n",
    "df_comp_cos = get_comp_sentences(sim_df_cos, chunks_1, chunks_2)\n",
    "\n",
    "df_comp_top_cos = get_top_comp(df_comp_cos)\n",
    "df_top_filt_cos = filter_df_comp_top(df_comp_top_cos)"
   ]
  },
  {
   "cell_type": "code",
   "execution_count": 15,
   "id": "7c738ce4",
   "metadata": {},
   "outputs": [
    {
     "data": {
      "image/png": "[encoded data removed]",
      "text/plain": [
       "<Figure size 640x480 with 1 Axes>"
      ]
     },
     "metadata": {},
     "output_type": "display_data"
    },
    {
     "name": "stdout",
     "output_type": "stream",
     "text": [
      "\n",
      "Community 1:\n",
      "\t- T2_0: lui qui fut pour cela banni\n",
      "\t- T1_1: Et si ne fu mie feniz Li plaiz, ainz dura puis grant piece\n",
      "Pas de cluster\n",
      "name 'measure_clustering_quality' is not defined\n"
     ]
    }
   ],
   "source": [
    "communities_cos = make_communities_show_graph(chunks_1, chunks_2, sim_matrix_cos)"
   ]
  },
  {
   "cell_type": "markdown",
   "id": "2afb9d9c",
   "metadata": {},
   "source": [
    "### euclidean distance"
   ]
  },
  {
   "cell_type": "code",
   "execution_count": 16,
   "id": "4f34160b",
   "metadata": {},
   "outputs": [],
   "source": [
    "dist_matrix_euclid = pairwise_distances(embeddings1, embeddings2,\n",
    "                                               metric = 'euclidean')\n",
    "sim_matrix_euclid = dist_to_sim(dist_matrix_euclid)\n",
    "sim_df_euclid = pd.DataFrame(sim_matrix_euclid)\n",
    "df_comp_euclid = get_comp_sentences(sim_df_euclid, chunks_1, chunks_2)\n",
    "\n",
    "df_comp_top_euclid = get_top_comp(df_comp_euclid)\n",
    "df_top_filt_euclid = filter_df_comp_top(df_comp_top_euclid)"
   ]
  },
  {
   "cell_type": "code",
   "execution_count": 17,
   "id": "934e9856",
   "metadata": {},
   "outputs": [
    {
     "name": "stdout",
     "output_type": "stream",
     "text": [
      "Pas de cluster\n",
      "division by zero\n"
     ]
    }
   ],
   "source": [
    "make_communities_show_graph(chunks_1, chunks_2, sim_matrix_euclid)"
   ]
  },
  {
   "cell_type": "markdown",
   "id": "3c48f3fb",
   "metadata": {},
   "source": [
    "### Dot product"
   ]
  },
  {
   "cell_type": "code",
   "execution_count": 18,
   "id": "79349df0",
   "metadata": {},
   "outputs": [],
   "source": [
    "num_embeddings1 = embeddings1.shape[0]\n",
    "num_embeddings2 = embeddings2.shape[0]\n",
    "\n",
    "inner_product_matrix = np.zeros((num_embeddings1, num_embeddings2))\n",
    "\n",
    "# Calculate inner product for each pair of embeddings using nested loops\n",
    "for i in range(num_embeddings1):\n",
    "    for j in range(num_embeddings2):\n",
    "        inner_product_matrix[i, j] = np.dot(embeddings1[i], embeddings2[j])\n",
    "        \n",
    "inner_product_matrix = normalize_matrix(inner_product_matrix)"
   ]
  },
  {
   "cell_type": "code",
   "execution_count": 19,
   "id": "ca0049c1",
   "metadata": {},
   "outputs": [],
   "source": [
    "sim_df_inner = pd.DataFrame(inner_product_matrix)\n",
    "df_comp_inner = get_comp_sentences(sim_df_inner, chunks_1, chunks_2)\n",
    "\n",
    "df_comp_top_in = get_top_comp(df_comp_inner)\n",
    "df_top_filt_inner = filter_df_comp_top(df_comp_top_in)"
   ]
  },
  {
   "cell_type": "code",
   "execution_count": 20,
   "id": "de0c9627",
   "metadata": {},
   "outputs": [
    {
     "data": {
      "image/png": "[encoded data removed]",
      "text/plain": [
       "<Figure size 640x480 with 1 Axes>"
      ]
     },
     "metadata": {},
     "output_type": "display_data"
    },
    {
     "name": "stdout",
     "output_type": "stream",
     "text": [
      "\n",
      "Community 1:\n",
      "\t- T1_4: Explicit\n",
      "\t- T2_0: lui qui fut pour cela banni\n",
      "\t- T2_1: Et cela ne mit pas fin à la dispute : elle dura longtemps encore\n",
      "\t- T2_4: Ainsi ils n'auront jamais fini\n",
      "\n",
      "Community 2:\n",
      "\t- T2_2: Car la cour de Rome, qui construit et démolit, a fait du tort à Guillaume de Saint-Amour en cédant aux pressions et à la peur\n",
      "\t- T1_2: Car la cours, qui fait et depiece, Nuit Guillaume de Saint Amour [Et] par priere et par cremour\n",
      "\n",
      "Community 3:\n",
      "\t- T2_3: Les gens de cette cour font bien ce qu'ils font, car ils font ce que les autres défont et ils défont ce qu'un autre a fait\n",
      "\t- T1_3: Cil de court font bien ce qu'il font, Car il font ce qu'autre defont, Et si defont ce qu'autre fait: Ainsi n'auront il jamais fait\n",
      "\n",
      "Community 4:\n",
      "\t- T1_5: Ci encoumence li dis des Jacobins I Signour, moult me merveil que ciz siecles devient Et de ceste merveille trop souvent me souvient, Si que en mervillant a force me\n",
      "\t- T2_5: Le dit des Jacobins I Seigneurs, le monde va d'un train qui m'étonne beaucoup: cet étonnement me vient si souvent à l'esprit qu'à force d'être étonné, je ne puis\n",
      "Pas de cluster\n",
      "name 'measure_clustering_quality' is not defined\n"
     ]
    }
   ],
   "source": [
    "make_communities_show_graph(chunks_1, chunks_2, inner_product_matrix)"
   ]
  },
  {
   "cell_type": "markdown",
   "id": "9507cf7f",
   "metadata": {},
   "source": [
    "## Lexically"
   ]
  },
  {
   "cell_type": "markdown",
   "id": "daf2d720",
   "metadata": {},
   "source": [
    "\n",
    "### Jaccard similarity"
   ]
  },
  {
   "cell_type": "code",
   "execution_count": 21,
   "id": "e5e0c1a4",
   "metadata": {},
   "outputs": [],
   "source": [
    "import numpy as np\n",
    "\n",
    "def jaccard_similarity_matrix(sentences1, sentences2):\n",
    "    words1 = [set(sentence.lower().split()) for sentence in sentences1]\n",
    "    words2 = [set(sentence.lower().split()) for sentence in sentences2]\n",
    "    \n",
    "    words1_array = np.array(words1)\n",
    "    words2_array = np.array(words2)\n",
    "    \n",
    "    intersection_matrix = np.array([len(words1_array[i].intersection(words2_array[j])) for i in range(len(words1_array)) for j in range(len(words2_array))]).reshape(len(words1_array), len(words2_array))\n",
    "    union_matrix = np.array([len(words1_array[i].union(words2_array[j])) for i in range(len(words1_array)) for j in range(len(words2_array))]).reshape(len(words1_array), len(words2_array))\n",
    "    \n",
    "    similarity_matrix = intersection_matrix / union_matrix\n",
    "    \n",
    "    return similarity_matrix\n",
    "\n",
    "sim_matrix_jaccard = jaccard_similarity_matrix(chunks_1, chunks_2)\n",
    "\n",
    "sim_df_jaccard = pd.DataFrame(sim_matrix_jaccard)\n",
    "df_comp_jaccard = get_comp_sentences(sim_df_jaccard, chunks_1, chunks_2)\n",
    "\n",
    "df_comp_top_jaccard = get_top_comp(df_comp_jaccard)\n",
    "df_top_filt_jaccard = filter_df_comp_top(df_comp_top_jaccard)\n",
    "\n"
   ]
  },
  {
   "cell_type": "code",
   "execution_count": 22,
   "id": "071a0fc7",
   "metadata": {},
   "outputs": [
    {
     "name": "stdout",
     "output_type": "stream",
     "text": [
      "Pas de cluster\n",
      "division by zero\n"
     ]
    }
   ],
   "source": [
    "make_communities_show_graph(chunks_1, chunks_2, sim_matrix_jaccard)"
   ]
  },
  {
   "cell_type": "markdown",
   "id": "84b6b03d",
   "metadata": {},
   "source": [
    "### Levenshtein distance"
   ]
  },
  {
   "cell_type": "code",
   "execution_count": 23,
   "id": "253329c1",
   "metadata": {},
   "outputs": [],
   "source": [
    "from Levenshtein import distance\n",
    "def levenshtein_matrix(list1, list2):\n",
    "    distance_matrix = []\n",
    "    for sentence1 in list1:\n",
    "        row = []\n",
    "        for sentence2 in list2:\n",
    "            lev_distance = 1/(1+distance(sentence1, sentence2))\n",
    "            row.append(lev_distance)\n",
    "        distance_matrix.append(row)\n",
    "    return distance_matrix"
   ]
  },
  {
   "cell_type": "code",
   "execution_count": 24,
   "id": "1fffc17b",
   "metadata": {},
   "outputs": [],
   "source": [
    "# Calculate and print the distance matrix\n",
    "dist_matrix_lev = np.array(levenshtein_matrix(chunks_1, chunks_2))\n",
    "df_matrix_lev = pd.DataFrame(dist_matrix_lev)\n",
    "df_comp_lev = get_comp_sentences(df_matrix_lev, chunks_1, chunks_2)\n",
    "\n",
    "df_comp_top_lev = get_top_comp(df_comp_lev)\n",
    "df_top_filt_lev = filter_df_comp_top(df_comp_top_lev)"
   ]
  },
  {
   "cell_type": "code",
   "execution_count": 25,
   "id": "9a52e8af",
   "metadata": {},
   "outputs": [
    {
     "data": {
      "text/html": [
       "<div>\n",
       "<style scoped>\n",
       "    .dataframe tbody tr th:only-of-type {\n",
       "        vertical-align: middle;\n",
       "    }\n",
       "\n",
       "    .dataframe tbody tr th {\n",
       "        vertical-align: top;\n",
       "    }\n",
       "\n",
       "    .dataframe thead th {\n",
       "        text-align: right;\n",
       "    }\n",
       "</style>\n",
       "<table border=\"1\" class=\"dataframe\">\n",
       "  <thead>\n",
       "    <tr style=\"text-align: right;\">\n",
       "      <th></th>\n",
       "      <th>sent1</th>\n",
       "      <th>sent2</th>\n",
       "      <th>sim_score</th>\n",
       "    </tr>\n",
       "  </thead>\n",
       "  <tbody>\n",
       "  </tbody>\n",
       "</table>\n",
       "</div>"
      ],
      "text/plain": [
       "Empty DataFrame\n",
       "Columns: [sent1, sent2, sim_score]\n",
       "Index: []"
      ]
     },
     "execution_count": 25,
     "metadata": {},
     "output_type": "execute_result"
    }
   ],
   "source": [
    "df_top_filt_lev"
   ]
  },
  {
   "cell_type": "code",
   "execution_count": 26,
   "id": "5b7a72ae",
   "metadata": {},
   "outputs": [
    {
     "name": "stdout",
     "output_type": "stream",
     "text": [
      "Pas de cluster\n",
      "division by zero\n"
     ]
    }
   ],
   "source": [
    "make_communities_show_graph(chunks_1, chunks_2, sim_matrix_jaccard)"
   ]
  },
  {
   "cell_type": "markdown",
   "id": "ece3ac50",
   "metadata": {},
   "source": [
    "### Hamming distance"
   ]
  },
  {
   "cell_type": "code",
   "execution_count": 27,
   "id": "ad17d81e",
   "metadata": {},
   "outputs": [],
   "source": [
    "def hamming_normalized_distance(list1, list2):\n",
    "    distance_matrix = []\n",
    "    for sentence1 in list1:\n",
    "        row = []\n",
    "        for sentence2 in list2:\n",
    "            lev_distance = textdistance.hamming.normalized_similarity(sentence1, sentence2)\n",
    "            row.append(lev_distance)\n",
    "        distance_matrix.append(row)\n",
    "    return distance_matrix"
   ]
  },
  {
   "cell_type": "code",
   "execution_count": 28,
   "id": "515ce705",
   "metadata": {},
   "outputs": [],
   "source": [
    "\n",
    "hamming_matrix = np.array(hamming_normalized_distance(chunks_1, chunks_2))\n",
    "hamming_matrix_df = pd.DataFrame(hamming_matrix)\n",
    "df_comp_hamming = get_comp_sentences(hamming_matrix_df, chunks_1, chunks_2)\n",
    "\n",
    "df_comp_top_hamming = get_top_comp(df_comp_hamming)\n",
    "df_top_filt_hamming = filter_df_comp_top(df_comp_top_hamming)\n"
   ]
  },
  {
   "cell_type": "code",
   "execution_count": 29,
   "id": "6e7e917d",
   "metadata": {},
   "outputs": [
    {
     "data": {
      "text/html": [
       "<div>\n",
       "<style scoped>\n",
       "    .dataframe tbody tr th:only-of-type {\n",
       "        vertical-align: middle;\n",
       "    }\n",
       "\n",
       "    .dataframe tbody tr th {\n",
       "        vertical-align: top;\n",
       "    }\n",
       "\n",
       "    .dataframe thead th {\n",
       "        text-align: right;\n",
       "    }\n",
       "</style>\n",
       "<table border=\"1\" class=\"dataframe\">\n",
       "  <thead>\n",
       "    <tr style=\"text-align: right;\">\n",
       "      <th></th>\n",
       "      <th>sent1</th>\n",
       "      <th>sent2</th>\n",
       "      <th>sim_score</th>\n",
       "    </tr>\n",
       "  </thead>\n",
       "  <tbody>\n",
       "  </tbody>\n",
       "</table>\n",
       "</div>"
      ],
      "text/plain": [
       "Empty DataFrame\n",
       "Columns: [sent1, sent2, sim_score]\n",
       "Index: []"
      ]
     },
     "execution_count": 29,
     "metadata": {},
     "output_type": "execute_result"
    }
   ],
   "source": [
    "df_top_filt_hamming"
   ]
  },
  {
   "cell_type": "code",
   "execution_count": 30,
   "id": "a74f3a96",
   "metadata": {},
   "outputs": [
    {
     "name": "stdout",
     "output_type": "stream",
     "text": [
      "Pas de cluster\n",
      "division by zero\n"
     ]
    }
   ],
   "source": [
    "make_communities_show_graph(chunks_1, chunks_2, hamming_matrix)"
   ]
  },
  {
   "cell_type": "markdown",
   "id": "f2aea0d2",
   "metadata": {},
   "source": [
    "### Jaro winkler"
   ]
  },
  {
   "cell_type": "code",
   "execution_count": 31,
   "id": "4151e0b6",
   "metadata": {},
   "outputs": [],
   "source": [
    "def jaro_winkler_matrix(list1, list2):\n",
    "    similarity_matrix = []\n",
    "    for sentence1 in list1:\n",
    "        row = []\n",
    "        for sentence2 in list2:\n",
    "            similarity = textdistance.jaro_winkler.similarity(sentence1, sentence2)\n",
    "            row.append(similarity)\n",
    "        similarity_matrix.append(row)\n",
    "    return similarity_matrix"
   ]
  },
  {
   "cell_type": "code",
   "execution_count": 32,
   "id": "01da8e51",
   "metadata": {},
   "outputs": [],
   "source": [
    "jw_matrix = np.array(jaro_winkler_matrix(chunks_1, chunks_2))\n",
    "jw_matrix_df = pd.DataFrame(jw_matrix)\n",
    "df_comp_jw = get_comp_sentences(jw_matrix_df, chunks_1, chunks_2)\n",
    "\n",
    "df_comp_top_jw = get_top_comp(df_comp_jw)\n",
    "df_top_filt_jw = filter_df_comp_top(df_comp_top_jw)"
   ]
  },
  {
   "cell_type": "code",
   "execution_count": 33,
   "id": "6ac6cfa9",
   "metadata": {},
   "outputs": [
    {
     "data": {
      "image/png": "[encoded data removed]",
      "text/plain": [
       "<Figure size 640x480 with 1 Axes>"
      ]
     },
     "metadata": {},
     "output_type": "display_data"
    },
    {
     "name": "stdout",
     "output_type": "stream",
     "text": [
      "\n",
      "Community 1:\n",
      "\t- T2_2: Car la cour de Rome, qui construit et démolit, a fait du tort à Guillaume de Saint-Amour en cédant aux pressions et à la peur\n",
      "\t- T1_2: Car la cours, qui fait et depiece, Nuit Guillaume de Saint Amour [Et] par priere et par cremour\n",
      "Pas de cluster\n",
      "name 'measure_clustering_quality' is not defined\n"
     ]
    }
   ],
   "source": [
    "make_communities_show_graph(chunks_1, chunks_2, jw_matrix)"
   ]
  },
  {
   "cell_type": "markdown",
   "id": "37082d22",
   "metadata": {},
   "source": [
    "## Hybrid approach"
   ]
  },
  {
   "cell_type": "markdown",
   "id": "e99a726c",
   "metadata": {},
   "source": [
    "### weigthed average"
   ]
  },
  {
   "cell_type": "code",
   "execution_count": 34,
   "id": "a9f9fc42",
   "metadata": {},
   "outputs": [],
   "source": [
    "# affine combination between semantic similarity and lexical similarity (coefficients between 0 and 1)\n",
    "lex_coef = 0.2\n",
    "sem_coef = 1 - lex_coef\n",
    "sim_matrix_weighted = lex_coef*dist_matrix_lev + lex_coef*sim_matrix_cos\n",
    "\n",
    "\n",
    "sim_df_inner_weighted = pd.DataFrame(sim_matrix_weighted)\n",
    "df_comp_inner_weighted = get_comp_sentences(sim_df_inner_weighted, chunks_1, chunks_2)\n",
    "\n",
    "df_comp_top_inner_weighted = get_top_comp(df_comp_inner_weighted)\n",
    "df_top_filt_inner_weighted = filter_df_comp_top(df_comp_top_inner_weighted)"
   ]
  },
  {
   "cell_type": "code",
   "execution_count": 35,
   "id": "e85e588a",
   "metadata": {},
   "outputs": [
    {
     "name": "stdout",
     "output_type": "stream",
     "text": [
      "Pas de cluster\n",
      "division by zero\n"
     ]
    }
   ],
   "source": [
    "make_communities_show_graph(chunks_1, chunks_2, sim_matrix_weighted)"
   ]
  },
  {
   "cell_type": "code",
   "execution_count": null,
   "id": "9fce71e6",
   "metadata": {},
   "outputs": [],
   "source": []
  },
  {
   "cell_type": "markdown",
   "id": "c8970c53",
   "metadata": {},
   "source": [
    "### point-wise multiplication"
   ]
  },
  {
   "cell_type": "code",
   "execution_count": 36,
   "id": "d3d48ad3",
   "metadata": {},
   "outputs": [
    {
     "name": "stdout",
     "output_type": "stream",
     "text": [
      "Pas de cluster\n",
      "division by zero\n"
     ]
    }
   ],
   "source": [
    "sim_matrix_pw = np.multiply(sim_matrix_cos, dist_matrix_lev)\n",
    "make_communities_show_graph(chunks_1, chunks_2, sim_matrix_pw)"
   ]
  },
  {
   "cell_type": "markdown",
   "id": "168c446e",
   "metadata": {},
   "source": [
    "# Evaluation"
   ]
  },
  {
   "cell_type": "markdown",
   "id": "ab34d655",
   "metadata": {},
   "source": [
    "### comparing embeddings"
   ]
  },
  {
   "cell_type": "markdown",
   "id": "ca64ffa2",
   "metadata": {},
   "source": [
    "### get similarity matrix"
   ]
  },
  {
   "cell_type": "markdown",
   "id": "66da06c9",
   "metadata": {},
   "source": [
    "## Evaluation of semantic methods for different embeddings"
   ]
  },
  {
   "cell_type": "code",
   "execution_count": 215,
   "id": "6cf4cf7b",
   "metadata": {},
   "outputs": [
    {
     "data": {
      "text/plain": [
       "'\\ndf = load_dataset(\"PhilipMay/stsb_multi_mt\", \"fr\")\\ndf = df[\\'train\\'].to_pandas()\\ndf[\\'sentence1\\'] = df[\\'sentence1\\'].apply(normalize_text)\\ndf[\\'sentence2\\'] = df[\\'sentence2\\'].apply(normalize_text)\\ndf[\\'similarity_score\\'] = df[\\'similarity_score\\']/5\\n'"
      ]
     },
     "execution_count": 215,
     "metadata": {},
     "output_type": "execute_result"
    }
   ],
   "source": [
    "\"\"\"\n",
    "df = load_dataset(\"PhilipMay/stsb_multi_mt\", \"fr\")\n",
    "df = df['train'].to_pandas()\n",
    "df['sentence1'] = df['sentence1'].apply(normalize_text)\n",
    "df['sentence2'] = df['sentence2'].apply(normalize_text)\n",
    "df['similarity_score'] = df['similarity_score']/5\n",
    "\"\"\""
   ]
  },
  {
   "cell_type": "code",
   "execution_count": 216,
   "id": "1d1c3f83",
   "metadata": {},
   "outputs": [],
   "source": [
    "# general fucntion to predict \n",
    "def predict_sim_score_cos(df):\n",
    "    sent_1 = df['sentence1']\n",
    "    sent_2 = df['sentence2']\n",
    "    \n",
    "    SPLIT_CHUNKS = 'sentences'\n",
    "    chunks_1 = break_into_chunks(sent_1, split = SPLIT_CHUNKS)\n",
    "    chunks_2 = break_into_chunks(sent_2, split = SPLIT_CHUNKS)\n",
    "    \n",
    "    embeddings1 = embed_chunks_transformers(chunks_1, tokenizer, model)\n",
    "    embeddings2 = embed_chunks_transformers(chunks_2, tokenizer, model)\n",
    "    \n",
    "    sim_matrix_cos = np.array(util.pytorch_cos_sim(embeddings1, embeddings2))\n",
    "    pred_sim_score = sim_matrix_cos[0,0]\n",
    "    return pred_sim_score\n",
    "\n",
    "def predict_sim_score_euclid(df):\n",
    "    \n",
    "    sent_1 = df['sentence1']\n",
    "    sent_2 = df['sentence2']\n",
    "    \n",
    "    SPLIT_CHUNKS = 'sentences'\n",
    "    chunks_1 = break_into_chunks(sent_1, split = SPLIT_CHUNKS)\n",
    "    chunks_2 = break_into_chunks(sent_2, split = SPLIT_CHUNKS)\n",
    "    \n",
    "    embeddings1 = embed_chunks_transformers(chunks_1, tokenizer, model)\n",
    "    embeddings2 = embed_chunks_transformers(chunks_2, tokenizer, model)\n",
    "    \n",
    "    dist_matrix_euclid = pairwise_distances(embeddings1, embeddings2,\n",
    "                                               metric = 'euclidean')\n",
    "    sim_matrix_euclid = dist_to_sim(dist_matrix_euclid)\n",
    "    return sim_matrix_euclid[0,0]\n",
    "\n",
    "def predict_sim_score_dot(df):\n",
    "    \n",
    "    sent_1 = df['sentence1']\n",
    "    sent_2 = df['sentence2']\n",
    "    \n",
    "    SPLIT_CHUNKS = 'sentences'\n",
    "    chunks_1 = break_into_chunks(sent_1, split = SPLIT_CHUNKS)\n",
    "    chunks_2 = break_into_chunks(sent_2, split = SPLIT_CHUNKS)\n",
    "    \n",
    "    embeddings1 = embed_chunks_transformers(chunks_1, tokenizer, model)\n",
    "    embeddings2 = embed_chunks_transformers(chunks_2, tokenizer, model)\n",
    "    \n",
    "    num_embeddings1 = embeddings1.shape[0]\n",
    "    num_embeddings2 = embeddings2.shape[0]\n",
    "\n",
    "    inner_product_matrix = np.zeros((num_embeddings1, num_embeddings2))\n",
    "\n",
    "    # Calculate inner product for each pair of embeddings using nested loops\n",
    "    for i in range(num_embeddings1):\n",
    "        for j in range(num_embeddings2):\n",
    "            inner_product_matrix[i, j] = np.dot(embeddings1[i], embeddings2[j])\n",
    "\n",
    "    return inner_product_matrix[0, 0]"
   ]
  },
  {
   "cell_type": "code",
   "execution_count": 217,
   "id": "87d4ac03",
   "metadata": {},
   "outputs": [],
   "source": [
    "def predict_sim_score_cos_fasttext(df):\n",
    "    \n",
    "    sent_1 = df['sentence1']\n",
    "    sent_2 = df['sentence2']\n",
    "    \n",
    "    SPLIT_CHUNKS = 'sentences'\n",
    "    chunks_1 = break_into_chunks(sent_1, split = SPLIT_CHUNKS)\n",
    "    chunks_2 = break_into_chunks(sent_2, split = SPLIT_CHUNKS)\n",
    "    \n",
    "    embeddings1 = embed_chunks_fasttext(chunks_1)\n",
    "    embeddings2 = embed_chunks_fasttext(chunks_2)\n",
    "    \n",
    "    sim_matrix_cos = np.array(util.pytorch_cos_sim(embeddings1, embeddings2))\n",
    "    pred_sim_score = sim_matrix_cos[0,0]\n",
    "    return pred_sim_score"
   ]
  },
  {
   "cell_type": "code",
   "execution_count": 218,
   "id": "6cf0f670",
   "metadata": {},
   "outputs": [],
   "source": [
    "def print_eval_metric2(df):\n",
    "    \n",
    "    metrics = ['mae', 'mse']\n",
    "    methods = ['pred_sim_score_cos', 'pred_sim_score_euclid', 'pred_sim_score_dot']\n",
    "    \n",
    "    matrix = np.zeros((3, 2))\n",
    "    for i in range(len(methods)):\n",
    "        for j in range(len(metrics)):\n",
    "            if metrics[j] == \"mse\":\n",
    "                val = round(mean_squared_error(df['similarity_score'], df[methods[i]]), 3)\n",
    "            elif metrics[j] == \"mae\":\n",
    "                val = round(mean_absolute_error(df['similarity_score'], df[methods[i]]), 3)\n",
    "                \n",
    "            matrix[i, j] = val\n",
    "            \n",
    "    methods_renamed = ['cos', 'euclid', 'dot']\n",
    "    df = pd.DataFrame(matrix, columns = metrics,\n",
    "                     index = methods_renamed)\n",
    "    \n",
    "    return df"
   ]
  },
  {
   "cell_type": "code",
   "execution_count": 37,
   "id": "84aa980b",
   "metadata": {},
   "outputs": [],
   "source": [
    "# Created by Cer et al. at 2017, the Semantic Textual Similarity Benchmark"
   ]
  },
  {
   "cell_type": "code",
   "execution_count": 38,
   "id": "15d2841e",
   "metadata": {},
   "outputs": [],
   "source": [
    "def highlight_min(s):\n",
    "    is_min = s == s.min()\n",
    "    return ['font-weight: bold' if v else '' for v in is_min]"
   ]
  },
  {
   "cell_type": "markdown",
   "id": "c1217e83",
   "metadata": {},
   "source": [
    "### miniLM"
   ]
  },
  {
   "cell_type": "code",
   "execution_count": 61,
   "id": "37bb27a1",
   "metadata": {},
   "outputs": [],
   "source": [
    "# making eval metrics dataframe\n",
    "def print_eval_metric2(df):\n",
    "    \n",
    "    mae_cos = mean_absolute_error(df['similarity_score'], df['pred_sim_score_cos'])\n",
    "    mse_cos = mean_squared_error(df['similarity_score'], df['pred_sim_score_cos'])\n",
    "    \n",
    "    mae_euclid = mean_absolute_error(df['similarity_score'], df['pred_sim_score_euclid'])\n",
    "    mse_euclid = mean_squared_error(df['similarity_score'], df['pred_sim_score_euclid'])\n",
    "    \n",
    "    mae_dot = mean_absolute_error(df['similarity_score'], df['pred_sim_score_dot'])\n",
    "    mse_dot = mean_squared_error(df['similarity_score'], df['pred_sim_score_dot'])\n",
    "    \n",
    "    data = [[mae_cos, mse_cos], \n",
    "        [mae_euclid, mse_euclid], \n",
    "        [mae_dot, mse_dot]]\n",
    "\n",
    "    # Define column names\n",
    "    columns = ['mae', 'mse']\n",
    "\n",
    "    # Define index with strings\n",
    "    index = ['cos', 'euclid', 'dot']\n",
    "\n",
    "    # Create DataFrame\n",
    "    df = pd.DataFrame(data, columns=columns, index=index)\n",
    "    return df\n",
    "\n",
    "#  highlighting lowest error in bold\n",
    "def highlight_min(s):\n",
    "    is_min = s == s.min()\n",
    "    return ['font-weight: bold' if v else '' for v in is_min]"
   ]
  },
  {
   "cell_type": "code",
   "execution_count": 62,
   "id": "2ac58f2f",
   "metadata": {},
   "outputs": [
    {
     "data": {
      "text/html": [
       "<style type=\"text/css\">\n",
       "#T_a2840_row0_col0, #T_a2840_row0_col1 {\n",
       "  font-weight: bold;\n",
       "}\n",
       "</style>\n",
       "<table id=\"T_a2840\">\n",
       "  <thead>\n",
       "    <tr>\n",
       "      <th class=\"blank level0\" >&nbsp;</th>\n",
       "      <th id=\"T_a2840_level0_col0\" class=\"col_heading level0 col0\" >mae</th>\n",
       "      <th id=\"T_a2840_level0_col1\" class=\"col_heading level0 col1\" >mse</th>\n",
       "    </tr>\n",
       "  </thead>\n",
       "  <tbody>\n",
       "    <tr>\n",
       "      <th id=\"T_a2840_level0_row0\" class=\"row_heading level0 row0\" >cos</th>\n",
       "      <td id=\"T_a2840_row0_col0\" class=\"data row0 col0\" >0.186765</td>\n",
       "      <td id=\"T_a2840_row0_col1\" class=\"data row0 col1\" >0.056968</td>\n",
       "    </tr>\n",
       "    <tr>\n",
       "      <th id=\"T_a2840_level0_row1\" class=\"row_heading level0 row1\" >euclid</th>\n",
       "      <td id=\"T_a2840_row1_col0\" class=\"data row1 col0\" >0.288078</td>\n",
       "      <td id=\"T_a2840_row1_col1\" class=\"data row1 col1\" >0.116231</td>\n",
       "    </tr>\n",
       "    <tr>\n",
       "      <th id=\"T_a2840_level0_row2\" class=\"row_heading level0 row2\" >dot</th>\n",
       "      <td id=\"T_a2840_row2_col0\" class=\"data row2 col0\" >0.242974</td>\n",
       "      <td id=\"T_a2840_row2_col1\" class=\"data row2 col1\" >0.088855</td>\n",
       "    </tr>\n",
       "  </tbody>\n",
       "</table>\n"
      ],
      "text/plain": [
       "<pandas.io.formats.style.Styler at 0x34547ab60>"
      ]
     },
     "execution_count": 62,
     "metadata": {},
     "output_type": "execute_result"
    }
   ],
   "source": [
    "df_minilm = pd.read_csv('df_minilm.csv')\n",
    "df_minilm = pd.DataFrame(print_eval_metric2(df_minilm))\n",
    "df_minilm = df_minilm.style.apply(highlight_min)\n",
    "df_minilm"
   ]
  },
  {
   "cell_type": "markdown",
   "id": "601747bf",
   "metadata": {},
   "source": [
    "### Bert"
   ]
  },
  {
   "cell_type": "code",
   "execution_count": 66,
   "id": "046b47a4",
   "metadata": {},
   "outputs": [
    {
     "data": {
      "text/html": [
       "<style type=\"text/css\">\n",
       "#T_50a8f_row2_col0, #T_50a8f_row2_col1 {\n",
       "  font-weight: bold;\n",
       "}\n",
       "</style>\n",
       "<table id=\"T_50a8f\">\n",
       "  <thead>\n",
       "    <tr>\n",
       "      <th class=\"blank level0\" >&nbsp;</th>\n",
       "      <th id=\"T_50a8f_level0_col0\" class=\"col_heading level0 col0\" >mae</th>\n",
       "      <th id=\"T_50a8f_level0_col1\" class=\"col_heading level0 col1\" >mse</th>\n",
       "    </tr>\n",
       "  </thead>\n",
       "  <tbody>\n",
       "    <tr>\n",
       "      <th id=\"T_50a8f_level0_row0\" class=\"row_heading level0 row0\" >cos</th>\n",
       "      <td id=\"T_50a8f_row0_col0\" class=\"data row0 col0\" >0.286302</td>\n",
       "      <td id=\"T_50a8f_row0_col1\" class=\"data row0 col1\" >0.128442</td>\n",
       "    </tr>\n",
       "    <tr>\n",
       "      <th id=\"T_50a8f_level0_row1\" class=\"row_heading level0 row1\" >euclid</th>\n",
       "      <td id=\"T_50a8f_row1_col0\" class=\"data row1 col0\" >0.411988</td>\n",
       "      <td id=\"T_50a8f_row1_col1\" class=\"data row1 col1\" >0.232440</td>\n",
       "    </tr>\n",
       "    <tr>\n",
       "      <th id=\"T_50a8f_level0_row2\" class=\"row_heading level0 row2\" >dot</th>\n",
       "      <td id=\"T_50a8f_row2_col0\" class=\"data row2 col0\" >0.272303</td>\n",
       "      <td id=\"T_50a8f_row2_col1\" class=\"data row2 col1\" >0.102517</td>\n",
       "    </tr>\n",
       "  </tbody>\n",
       "</table>\n"
      ],
      "text/plain": [
       "<pandas.io.formats.style.Styler at 0x345479bd0>"
      ]
     },
     "execution_count": 66,
     "metadata": {},
     "output_type": "execute_result"
    }
   ],
   "source": [
    "df_bert = pd.read_csv('df_bert.csv')\n",
    "df_bert = pd.DataFrame(print_eval_metric2(df_bert))\n",
    "df_bert = df_bert.style.apply(highlight_min)\n",
    "df_bert"
   ]
  },
  {
   "cell_type": "markdown",
   "id": "1ee008f1",
   "metadata": {},
   "source": [
    "### Distiluse-bert"
   ]
  },
  {
   "cell_type": "code",
   "execution_count": 67,
   "id": "6df038a9",
   "metadata": {},
   "outputs": [
    {
     "data": {
      "text/html": [
       "<style type=\"text/css\">\n",
       "#T_35786_row0_col0, #T_35786_row1_col1 {\n",
       "  font-weight: bold;\n",
       "}\n",
       "</style>\n",
       "<table id=\"T_35786\">\n",
       "  <thead>\n",
       "    <tr>\n",
       "      <th class=\"blank level0\" >&nbsp;</th>\n",
       "      <th id=\"T_35786_level0_col0\" class=\"col_heading level0 col0\" >mae</th>\n",
       "      <th id=\"T_35786_level0_col1\" class=\"col_heading level0 col1\" >mse</th>\n",
       "    </tr>\n",
       "  </thead>\n",
       "  <tbody>\n",
       "    <tr>\n",
       "      <th id=\"T_35786_level0_row0\" class=\"row_heading level0 row0\" >cos</th>\n",
       "      <td id=\"T_35786_row0_col0\" class=\"data row0 col0\" >0.210753</td>\n",
       "      <td id=\"T_35786_row0_col1\" class=\"data row0 col1\" >0.070774</td>\n",
       "    </tr>\n",
       "    <tr>\n",
       "      <th id=\"T_35786_level0_row1\" class=\"row_heading level0 row1\" >euclid</th>\n",
       "      <td id=\"T_35786_row1_col0\" class=\"data row1 col0\" >0.214131</td>\n",
       "      <td id=\"T_35786_row1_col1\" class=\"data row1 col1\" >0.061374</td>\n",
       "    </tr>\n",
       "    <tr>\n",
       "      <th id=\"T_35786_level0_row2\" class=\"row_heading level0 row2\" >dot</th>\n",
       "      <td id=\"T_35786_row2_col0\" class=\"data row2 col0\" >0.250254</td>\n",
       "      <td id=\"T_35786_row2_col1\" class=\"data row2 col1\" >0.092396</td>\n",
       "    </tr>\n",
       "  </tbody>\n",
       "</table>\n"
      ],
      "text/plain": [
       "<pandas.io.formats.style.Styler at 0x34547ae30>"
      ]
     },
     "execution_count": 67,
     "metadata": {},
     "output_type": "execute_result"
    }
   ],
   "source": [
    "df_distil_bert = pd.read_csv('df_distiluse-bert.csv')\n",
    "df_distil_bert = pd.DataFrame(print_eval_metric2(df_distil_bert))\n",
    "df_distil_bert = df_distil_bert.style.apply(highlight_min)\n",
    "df_distil_bert"
   ]
  },
  {
   "cell_type": "markdown",
   "id": "2c167ff5",
   "metadata": {},
   "source": [
    "## Getting the df for sentences with sim score for  each method"
   ]
  },
  {
   "cell_type": "code",
   "execution_count": 73,
   "id": "c2ac2333",
   "metadata": {},
   "outputs": [],
   "source": [
    "input_1 = text_9\n",
    "input_2 = text_10\n",
    "\n",
    "NORMALIZE = True\n",
    "if NORMALIZE:\n",
    "    input_1 = normalize_text(input_1)\n",
    "    input_2 = normalize_text(input_2)\n",
    "    \n",
    "SPLIT_CHUNKS = 'sentences'\n",
    "chunks_1 = break_into_chunks(input_1, split = SPLIT_CHUNKS)\n",
    "chunks_2 = break_into_chunks(input_2, split = SPLIT_CHUNKS)"
   ]
  },
  {
   "cell_type": "code",
   "execution_count": 74,
   "id": "ca2a517e",
   "metadata": {},
   "outputs": [],
   "source": [
    "sim_matrix_jaccard = jaccard_similarity_matrix(chunks_1, chunks_2)\n",
    "sim_df_jaccard = pd.DataFrame(sim_matrix_jaccard)\n",
    "df_comp_jaccard = get_comp_sentences(sim_df_jaccard, chunks_1, chunks_2, threshold = 0)"
   ]
  },
  {
   "cell_type": "code",
   "execution_count": 75,
   "id": "22dc79da",
   "metadata": {},
   "outputs": [],
   "source": [
    "df_comp_top_jaccard = get_top_comp(df_comp_jaccard)\n",
    "df_top_filt_jaccard = filter_df_comp_top(df_comp_top_jaccard)"
   ]
  },
  {
   "cell_type": "markdown",
   "id": "5bf09e8e",
   "metadata": {},
   "source": [
    "### levenshtein"
   ]
  },
  {
   "cell_type": "code",
   "execution_count": 76,
   "id": "98b67d2b",
   "metadata": {},
   "outputs": [],
   "source": [
    "dist_matrix_lev = np.array(levenshtein_matrix(chunks_1, chunks_2))\n",
    "df_matrix_lev = pd.DataFrame(dist_matrix_lev)\n",
    "df_comp_lev = get_comp_sentences(df_matrix_lev, chunks_1, chunks_2, threshold = 0)\n",
    "\n",
    "df_comp_top_lev = get_top_comp(df_comp_lev)\n",
    "df_top_filt_lev = filter_df_comp_top(df_comp_top_lev)"
   ]
  },
  {
   "cell_type": "markdown",
   "id": "3654eac4",
   "metadata": {},
   "source": [
    "### Hamming"
   ]
  },
  {
   "cell_type": "code",
   "execution_count": 77,
   "id": "fbd5d266",
   "metadata": {
    "scrolled": true
   },
   "outputs": [],
   "source": [
    "hamming_matrix = np.array(hamming_normalized_distance(chunks_1, chunks_2))\n",
    "hamming_matrix_df = pd.DataFrame(hamming_matrix)\n",
    "df_comp_hamming = get_comp_sentences(hamming_matrix_df, chunks_1, chunks_2, threshold = 0)\n",
    "\n",
    "df_comp_top_hamming = get_top_comp(df_comp_hamming)\n",
    "df_top_filt_hamming = filter_df_comp_top(df_comp_top_hamming)"
   ]
  },
  {
   "cell_type": "code",
   "execution_count": 78,
   "id": "4a93638e",
   "metadata": {},
   "outputs": [],
   "source": [
    "text_7 = \"sovent que denier a Change, Rimer vueil du monde divers. Toz fu estez, or est yvers; Bon fu, or est d'autre maniere, Quar nule gent n'est més maniere De l'autrui porfit porchacier, Se son preu n'i cuide chacier. Chascuns devient oisel de proie: Nul ne vit més se il ne proie. Por ce dirai l'estat du monde, Qui de toz biens se vuide et monde. Relegieus premierement Deussent vivre saintement, Ce croi, selonc m'entencion. Si a double religion: Li un sont moine blanc et noir Qui maint biau lieu et maint manoir Ont et mainte richece assise, Qui toz sont sers a Covoitise. Toz jors vuelent sanz doner prendre, Toz jors achatent sanz riens vendre. Il tolent, l'en ne lot tolt rien. Il sont fondé sus fort mesrien:\"\n",
    "text_8 = \"veux rimer sur ce monde changeant. L'été est passé, maintenant c'est l'hiver; le monde était bon, maintenant c'est différent, car personne ne sait plus travailler au bien d'autrui, s'il ne pense pas y trouver son profit. Chacun se fait oiseau de proie: nul ne vit plus que de proies. C'est pourquoi je vais dire l'état où est ce monde, qui de tout bien se vide et s'émonde. Tout d'abord, les religieux devraient vivre saintement: c'est mon avis. Or, ils sont de deux sortes: les uns sont des moines blancs ou noirs , qui possèdent maintes belles résidences et maintes richesses solides. Ils sont tous esclaves de Cupidité. Sans cesse ils veulent prendre sans jamais donner, sans cesse ils achètent sans jamais rien vendre. Ils prennent, et on ne leur prend\"\n",
    "\n",
    "color_list3 = [\n",
    "    \"red\", \"blue\", \"green\", \"brown\",  'orange', 'violet', 'grey'\n",
    "]\n",
    "color_list2 = [\n",
    "    # Basic colors\n",
    "    \"red\", \"green\", \"blue\", \"black\", \"gray\",\n",
    "\n",
    "    # Lighter variations\n",
    "    \"lightcoral\", \"'lightgreen'\", \"lightskyblue\", \"lightgray\",\n",
    "\n",
    "    # Darker variations\n",
    "    \"darkred\", \"darkgreen\", \"darkblue\", \"darkgray\",\n",
    "\n",
    "    # Other colors\n",
    "    \"orange\", \"yellow\", \"purple\", \"pink\", \"cyan\", \"magenta\", \"teal\", \"maroon\",\n",
    "    \"navy\", \"olive\", \"lime\", \"fuchsia\", \"aqua\", \"coral\", \"turquoise\", \"khaki\",\n",
    "\n",
    "    # Color names with better readability\n",
    "    \"goldenrod\", \"darkgoldenrod\", \"royalblue\", \"cadetblue\", \"darkslateblue\",\n",
    "    \"mediumpurple\", \"darkorchid\", \"lightseagreen\", \"darkseagreen\", \"forestgreen\",\n",
    "    \"peru\", \"sienna\", \"darkorange\", \"coralred\", \"tomato\", \"salmon\",\n",
    "]\n",
    "color_list = [\"red\", \"blue\", \"green\", \"brown\",  'orange', 'violet', 'grey',\n",
    "              \"lightcoral\", 'lightgreen', 'navy']"
   ]
  },
  {
   "cell_type": "code",
   "execution_count": 79,
   "id": "67fc7b71",
   "metadata": {},
   "outputs": [],
   "source": [
    "# !! insert the desired df according to metric\n",
    "DF_COMP_TOP = df_top_filt_jaccard"
   ]
  },
  {
   "cell_type": "markdown",
   "id": "3eb7255f",
   "metadata": {},
   "source": [
    "## Interface"
   ]
  },
  {
   "cell_type": "code",
   "execution_count": 80,
   "id": "6d44435b",
   "metadata": {},
   "outputs": [],
   "source": [
    "import difflib\n",
    "from termcolor import colored\n",
    "\n",
    "def color_diff(text1, text2):\n",
    "    diff = difflib.ndiff(text1.split(), text2.split())\n",
    "    result = []\n",
    "\n",
    "    for word in diff:\n",
    "        if word.startswith('-'):\n",
    "            result.append(colored(word[2:], 'red'))\n",
    "        elif word.startswith('+'):\n",
    "            result.append(colored(word[2:], 'green'))\n",
    "        else:\n",
    "            result.append(word[2:])\n",
    "    \n",
    "    return ' '.join(result)"
   ]
  },
  {
   "cell_type": "code",
   "execution_count": 81,
   "id": "b1f4404f",
   "metadata": {},
   "outputs": [],
   "source": [
    "def highlight_differences(text1, text2, widget1, widget2):\n",
    "    diff = difflib.ndiff(text1.split(), text2.split())\n",
    "    for tag in widget1.tag_names():\n",
    "        widget1.tag_delete(tag)\n",
    "    for tag in widget2.tag_names():\n",
    "        widget2.tag_delete(tag)\n",
    "\n",
    "    widget1.tag_configure(\"inserted\", background=\"lightgreen\")\n",
    "    widget2.tag_configure(\"deleted\", background=\"lightblue\")\n",
    "\n",
    "    widget1_text = \"\"\n",
    "    widget2_text = \"\"\n",
    "    for i, s in enumerate(diff):\n",
    "        if s.startswith(\"- \"):\n",
    "            widget1_text += s[2:] + \" \"\n",
    "            widget1.insert(tk.END, s[2:] + \" \", \"deleted\")\n",
    "        elif s.startswith(\"+ \"):\n",
    "            widget2_text += s[2:] + \" \"\n",
    "            widget2.insert(tk.END, s[2:] + \" \", \"inserted\")\n",
    "        elif s.startswith(\"? \"):\n",
    "            pass\n",
    "        else:\n",
    "            widget1_text += s[2:] + \" \"\n",
    "            widget2_text += s[2:] + \" \"\n",
    "            widget1.insert(tk.END, s[2:] + \" \")\n",
    "            widget2.insert(tk.END, s[2:] + \" \")"
   ]
  },
  {
   "cell_type": "code",
   "execution_count": 82,
   "id": "9871d96d",
   "metadata": {},
   "outputs": [
    {
     "data": {
      "text/html": [
       "<div>\n",
       "<style scoped>\n",
       "    .dataframe tbody tr th:only-of-type {\n",
       "        vertical-align: middle;\n",
       "    }\n",
       "\n",
       "    .dataframe tbody tr th {\n",
       "        vertical-align: top;\n",
       "    }\n",
       "\n",
       "    .dataframe thead th {\n",
       "        text-align: right;\n",
       "    }\n",
       "</style>\n",
       "<table border=\"1\" class=\"dataframe\">\n",
       "  <thead>\n",
       "    <tr style=\"text-align: right;\">\n",
       "      <th></th>\n",
       "      <th>sent1</th>\n",
       "      <th>sent2</th>\n",
       "      <th>sim_score</th>\n",
       "    </tr>\n",
       "  </thead>\n",
       "  <tbody>\n",
       "    <tr>\n",
       "      <th>0</th>\n",
       "      <td>cil de court font bien ce qu'il font, car il f...</td>\n",
       "      <td>les gens de cette cour font bien ce qu'ils fon...</td>\n",
       "      <td>0.250000</td>\n",
       "    </tr>\n",
       "    <tr>\n",
       "      <th>0</th>\n",
       "      <td>car la cours, qui fait et depiece, nuit guilla...</td>\n",
       "      <td>car la cour de rome, qui construit et démolit,...</td>\n",
       "      <td>0.233333</td>\n",
       "    </tr>\n",
       "    <tr>\n",
       "      <th>0</th>\n",
       "      <td>ci encoumence li dis des jacobins i signour, m...</td>\n",
       "      <td>le dit des jacobins i seigneurs, le monde va d...</td>\n",
       "      <td>0.145833</td>\n",
       "    </tr>\n",
       "    <tr>\n",
       "      <th>0</th>\n",
       "      <td>et si ne fu mie feniz li plaiz, ainz dura puis...</td>\n",
       "      <td>et cela ne mit pas fin à la dispute : elle dur...</td>\n",
       "      <td>0.125000</td>\n",
       "    </tr>\n",
       "  </tbody>\n",
       "</table>\n",
       "</div>"
      ],
      "text/plain": [
       "                                               sent1  \\\n",
       "0  cil de court font bien ce qu'il font, car il f...   \n",
       "0  car la cours, qui fait et depiece, nuit guilla...   \n",
       "0  ci encoumence li dis des jacobins i signour, m...   \n",
       "0  et si ne fu mie feniz li plaiz, ainz dura puis...   \n",
       "\n",
       "                                               sent2  sim_score  \n",
       "0  les gens de cette cour font bien ce qu'ils fon...   0.250000  \n",
       "0  car la cour de rome, qui construit et démolit,...   0.233333  \n",
       "0  le dit des jacobins i seigneurs, le monde va d...   0.145833  \n",
       "0  et cela ne mit pas fin à la dispute : elle dur...   0.125000  "
      ]
     },
     "execution_count": 82,
     "metadata": {},
     "output_type": "execute_result"
    }
   ],
   "source": [
    "DF_COMP_TOP"
   ]
  },
  {
   "cell_type": "markdown",
   "id": "d3dc9496",
   "metadata": {},
   "source": [
    "# Interface with tkinter (images examples in images/ folder)"
   ]
  },
  {
   "cell_type": "code",
   "execution_count": 83,
   "id": "b754cb66",
   "metadata": {},
   "outputs": [
    {
     "name": "stdout",
     "output_type": "stream",
     "text": [
      "\n",
      "\n",
      "\n",
      "\n",
      "\n"
     ]
    }
   ],
   "source": [
    "import tkinter as tk\n",
    "from tkinter import ttk\n",
    "\n",
    "def difflib_func():\n",
    "    # Get current contents of text widgets\n",
    "    current_text1 = text1.get(\"1.0\", tk.END).strip()\n",
    "    current_text2 = text2.get(\"1.0\", tk.END).strip()\n",
    "\n",
    "    # Highlight differences\n",
    "    highlight_differences(current_text1, current_text2, text1, text2)\n",
    "\n",
    "def get_line_indices(text):\n",
    " \n",
    "    lines = text.splitlines(keepends=True)  # Keep newline characters\n",
    "    line_indices = []\n",
    "    current_index = 0\n",
    "    for line_number, line in enumerate(lines, 1):\n",
    "        line_length = len(line)\n",
    "        end_index = current_index + line_length\n",
    "        line_indices.append((line_number, current_index, end_index))\n",
    "        current_index = end_index\n",
    "    return line_indices\n",
    "\n",
    "def highlight_text():\n",
    "    \n",
    "    nb_lines, highlight_ranges_text1, highlight_ranges_text2, sent_list_1, sent_list_2 = get_indices(DF_COMP_TOP, input_1, input_2)\n",
    "    \n",
    "    #print(\"len pairs:\", len(highlight_ranges_text1))\n",
    "    #print(highlight_ranges_text1)\n",
    "        \n",
    "    for i in range(nb_lines):    \n",
    "        text1.tag_remove(f\"highlighted{i}\", f\"{i}.0\", \"end\")\n",
    "        text2.tag_remove(f\"highlighted{i}\", f\"{i}.0\", \"end\")\n",
    "\n",
    " \n",
    "    # Add highlight to text1\n",
    "    for i, (start_i, end_i) in enumerate(highlight_ranges_text1):\n",
    "        #line_i = start_i//100-1\n",
    "        #if line_i < 0:\n",
    "        #    line_i = 1\n",
    "        start_line = start_i%100\n",
    "        end_line = end_i%100\n",
    "        \n",
    "        \n",
    "        #print(sent_list_1[i])\n",
    "        print()\n",
    "        \n",
    "        text1.tag_configure(f\"highlighted{i}\", background=color_list[i])\n",
    "        for line in range(10):\n",
    "            text1.tag_add(f\"highlighted{i}\", f\"{line}.{start_i}\", f\"{line}.{end_i}\")\n",
    "    \n",
    "    print()\n",
    "    # Add highlight to text2\n",
    "    for j, (start_j, end_j) in enumerate(highlight_ranges_text2):\n",
    "        #line_j = start_j//100-1\n",
    "        #if line_j < 0:\n",
    "        #    line_j = 1\n",
    "        start_line = start_j%100\n",
    "        end_line = end_j%100\n",
    "        \n",
    "        text2.tag_configure(f\"highlighted{j}\", background=color_list[j])\n",
    "        for line in range(10):\n",
    "            text2.tag_add(f\"highlighted{j}\", f\"{line}.{start_j}\", f\"{line}.{end_j}\")\n",
    "\n",
    "def quit_app():\n",
    "    root.destroy()  # Properly quit the tkinter application\n",
    "\n",
    "# Create main application window\n",
    "root = tk.Tk()\n",
    "root.title(\"Highlight Text\")\n",
    "\n",
    "\n",
    "# Create a frame for the text widgets\n",
    "frame = ttk.Frame(root)\n",
    "frame.pack(padx=10, pady=10)\n",
    "\n",
    "# Text widget for text 1\n",
    "text1 = tk.Text(frame, height=40, width=100)\n",
    "text1.insert(tk.END, text_9)\n",
    "text1.pack(side=tk.LEFT, padx=5)\n",
    "\n",
    "# Text widget for text 2\n",
    "text2 = tk.Text(frame, height=40, width=100)\n",
    "text2.insert(tk.END, text_10)\n",
    "text2.pack(side=tk.RIGHT, padx=5)\n",
    "\n",
    "# Create a button to highlight text\n",
    "highlight_button = ttk.Button(root, text=\"highlight_text\", command=highlight_text)\n",
    "highlight_button.pack(pady=10)\n",
    "\n",
    "difflib_button = ttk.Button(root, text=\"Difflib\", command=difflib_func)\n",
    "difflib_button.pack(pady=10)\n",
    "\n",
    "# Create a button to quit the application\n",
    "quit_button = ttk.Button(root, text=\"Quit\", command=quit_app)\n",
    "quit_button.pack(pady=10)\n",
    "\n",
    "# Start the tkinter main loop\n",
    "root.mainloop()"
   ]
  },
  {
   "cell_type": "markdown",
   "id": "37f79f04",
   "metadata": {},
   "source": [
    "## Exact difference example"
   ]
  },
  {
   "cell_type": "code",
   "execution_count": 84,
   "id": "6c1046d4",
   "metadata": {},
   "outputs": [],
   "source": [
    "nb_lines, highlight_ranges_text1, highlight_ranges_text2, sent_list_1, sent_list_2 = get_indices(DF_COMP_TOP, input_1, input_2)\n",
    "sentence_test_1 = sent_list_1[0]\n",
    "sentence_test_2 = sent_list_2[0]"
   ]
  },
  {
   "cell_type": "code",
   "execution_count": 100,
   "id": "b7a0c39f",
   "metadata": {},
   "outputs": [],
   "source": [
    "import tkinter as tk\n",
    "from tkinter import ttk\n",
    "\n",
    "def difflib_func():\n",
    "    \n",
    "    current_text1 = text1.get(\"1.0\", tk.END).strip()\n",
    "    current_text2 = text2.get(\"1.0\", tk.END).strip()\n",
    "    \n",
    "    diff = difflib.ndiff(current_text1.split(), current_text2.split())\n",
    "    text1.tag_configure(\"deleted\", foreground=\"red\")\n",
    "    text1.tag_configure(\"added\", foreground=\"green\")\n",
    "    \n",
    "    text2.tag_configure(\"deleted\", foreground=\"red\")\n",
    "    text2.tag_configure(\"added\", foreground=\"green\")\n",
    "    \n",
    "    text1.delete(\"1.0\", tk.END)\n",
    "    text2.delete(\"1.0\", tk.END)\n",
    "\n",
    "    for word in diff:\n",
    "        if word.startswith('-'):\n",
    "            text1.insert(tk.END, word[2:] + \" \", \"deleted\")\n",
    "        elif word.startswith('+'):\n",
    "            text2.insert(tk.END, word[2:] + \" \", \"added\")\n",
    "        else:\n",
    "            text1.insert(tk.END, word[2:] + \" \")\n",
    "            text2.insert(tk.END, word[2:] + \" \")\n",
    "       \n",
    "        \n",
    "\n",
    "def get_line_indices(text):\n",
    " \n",
    "    lines = text.splitlines(keepends=True)  # Keep newline characters\n",
    "    line_indices = []\n",
    "    current_index = 0\n",
    "    for line_number, line in enumerate(lines, 1):\n",
    "        line_length = len(line)\n",
    "        end_index = current_index + line_length\n",
    "        line_indices.append((line_number, current_index, end_index))\n",
    "        current_index = end_index\n",
    "    return line_indices\n",
    "\n",
    "def highlight_text():\n",
    "    \n",
    "    nb_lines, highlight_ranges_text1, highlight_ranges_text2, sent_list_1, sent_list_2 = get_indices(DF_COMP_TOP, input_1, input_2)\n",
    "\n",
    "    #print(\"len pairs:\", len(highlight_ranges_text1))\n",
    "    #print(highlight_ranges_text1)\n",
    "        \n",
    "    for i in range(nb_lines):    \n",
    "        text1.tag_remove(f\"highlighted{i}\", f\"{i}.0\", \"end\")\n",
    "        text2.tag_remove(f\"highlighted{i}\", f\"{i}.0\", \"end\")\n",
    "\n",
    " \n",
    "    # Add highlight to text1\n",
    "    for i, (start_i, end_i) in enumerate(highlight_ranges_text1):\n",
    "        #line_i = start_i//100-1\n",
    "        #if line_i < 0:\n",
    "        #    line_i = 1\n",
    "        start_line = start_i%100\n",
    "        end_line = end_i%100        \n",
    "        \n",
    "        #print(sent_list_1[i])\n",
    "        print()\n",
    "        \n",
    "        text1.tag_configure(f\"highlighted{i}\", background=color_list[i])\n",
    "        for line in range(10):\n",
    "            text1.tag_add(f\"highlighted{i}\", f\"{line}.{start_i}\", f\"{line}.{end_i}\")\n",
    "    \n",
    "    print()\n",
    "    # Add highlight to text2\n",
    "    for j, (start_j, end_j) in enumerate(highlight_ranges_text2):\n",
    "        #line_j = start_j//100-1\n",
    "        #if line_j < 0:\n",
    "        #    line_j = 1\n",
    "        start_line = start_j%100\n",
    "        end_line = end_j%100\n",
    "        \n",
    "        text2.tag_configure(f\"highlighted{j}\", background=color_list[j])\n",
    "        for line in range(10):\n",
    "            text2.tag_add(f\"highlighted{j}\", f\"{line}.{start_j}\", f\"{line}.{end_j}\")\n",
    "\n",
    "def quit_app():\n",
    "    root.destroy()  # Properly quit the tkinter application\n",
    "\n",
    "# Create main application window\n",
    "root = tk.Tk()\n",
    "root.title(\"Highlight Text\")\n",
    "\n",
    "# Create a frame for the text widgets\n",
    "frame = ttk.Frame(root)\n",
    "frame.pack(padx=10, pady=10)\n",
    "\n",
    "# Text widget for text 1\n",
    "text1 = tk.Text(frame, height=40, width=100)\n",
    "text1.insert(tk.END, sentence_test_1)\n",
    "text1.pack(side=tk.LEFT, padx=5)\n",
    "\n",
    "# Text widget for text 2\n",
    "text2 = tk.Text(frame, height=40, width=100)\n",
    "text2.insert(tk.END, sentence_test_2)\n",
    "text2.pack(side=tk.RIGHT, padx=5)\n",
    "\n",
    "# Create a button to highlight text\n",
    "highlight_button = ttk.Button(root, text=\"highlight_text\", command=highlight_text)\n",
    "highlight_button.pack(pady=10)\n",
    "\n",
    "difflib_button = ttk.Button(root, text=\"Difflib\", command=difflib_func)\n",
    "difflib_button.pack(pady=10)\n",
    "\n",
    "# Create a button to quit the application\n",
    "quit_button = ttk.Button(root, text=\"Quit\", command=quit_app)\n",
    "quit_button.pack(pady=10)\n",
    "\n",
    "# Start the tkinter main loop\n",
    "root.mainloop()"
   ]
  },
  {
   "cell_type": "code",
   "execution_count": null,
   "id": "d09865b9",
   "metadata": {},
   "outputs": [],
   "source": []
  }
 ],
 "metadata": {
  "kernelspec": {
   "display_name": "Python 3 (ipykernel)",
   "language": "python",
   "name": "python3"
  },
  "language_info": {
   "codemirror_mode": {
    "name": "ipython",
    "version": 3
   },
   "file_extension": ".py",
   "mimetype": "text/x-python",
   "name": "python",
   "nbconvert_exporter": "python",
   "pygments_lexer": "ipython3",
   "version": "3.10.8"
  }
 },
 "nbformat": 4,
 "nbformat_minor": 5
}
